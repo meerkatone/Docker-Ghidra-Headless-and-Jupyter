{
 "cells": [
  {
   "cell_type": "code",
   "execution_count": null,
   "id": "9430c99f-f8b2-4b4d-a0c9-6beae7d22b40",
   "metadata": {},
   "outputs": [],
   "source": [
    "%%time\n",
    "import pandas as pd\n",
    "import seaborn as sns\n",
    "import os\n",
    "import hashlib\n",
    "import math\n",
    "import csv\n",
    "import itertools\n",
    "import pandas_bokeh\n",
    "from collections import Counter\n",
    "import matplotlib.pyplot as plt\n",
    "\n",
    "pandas_bokeh.output_notebook()\n",
    "import jupyter_black\n",
    "\n",
    "jupyter_black.load()"
   ]
  },
  {
   "cell_type": "markdown",
   "id": "637dd3ab-56a3-4b99-9e56-b864b433d0ed",
   "metadata": {},
   "source": [
    "<h1>Ghidra 11.4 and PyGhidra</h1>"
   ]
  },
  {
   "cell_type": "code",
   "execution_count": null,
   "id": "d255ee0e-0ee7-4114-8f27-2947f8d8ac59",
   "metadata": {},
   "outputs": [],
   "source": [
    "!wget https://github.com/therealsaumil/emux/raw/master/files/emux/TRI227WF/rootfs.tar.bz2\n",
    "!wget https://github.com/therealsaumil/emux/raw/master/files/emux/AC15/squashfs-root.tar.bz2"
   ]
  },
  {
   "cell_type": "code",
   "execution_count": null,
   "id": "98241c2b-9efa-4be7-8e16-0c6f32e289f1",
   "metadata": {
    "scrolled": true
   },
   "outputs": [],
   "source": [
    "!bzip2 -d ./rootfs.tar.bz2\n",
    "!bzip2 -d ./squashfs-root.tar.bz2\n",
    "!tar -xvf ./rootfs.tar\n",
    "!tar -xvf ./squashfs-root.tar"
   ]
  },
  {
   "cell_type": "code",
   "execution_count": null,
   "id": "6ed99f2f-e589-4781-9e43-ede58c82a61f",
   "metadata": {},
   "outputs": [],
   "source": [
    "!mkdir ./AC15\n",
    "!cp ./squashfs-root/bin/httpd ./AC15/AC15_httpd\n",
    "!cp ./rootfs/usr/bin/webs ./AC15/TRI227WF_webs"
   ]
  },
  {
   "cell_type": "code",
   "execution_count": null,
   "id": "9cc16b42-c3ea-4715-9263-441aee4a7ddd",
   "metadata": {
    "scrolled": true
   },
   "outputs": [],
   "source": [
    "import pyghidra\n",
    "import os\n",
    "import csv\n",
    "from operator import itemgetter\n",
    "\n",
    "pyghidra.start()\n",
    "\n",
    "import ghidra\n",
    "from ghidra.app.util.headless import HeadlessAnalyzer\n",
    "from ghidra.program.flatapi import FlatProgramAPI\n",
    "from ghidra.base.project import GhidraProject\n",
    "from java.lang import String\n",
    "from ghidra.program.util import DefinedDataIterator, CyclomaticComplexity\n",
    "from ghidra.program.model.listing import Function\n",
    "from ghidra.program.model.symbol import SourceType\n",
    "from ghidra.util.exception import CancelledException\n",
    "\n",
    "# Define dangerous functions\n",
    "dangerous_functions = [\"system\", \"execve\", \"execle\", \"execvp\", \"execlp\", \"doSystemCmd\"]\n",
    "\n",
    "\n",
    "def format_high_complexity_funcs(funcs):\n",
    "    \"\"\"Format the top 10 high complexity functions as a string.\"\"\"\n",
    "    return \"; \".join([f\"{name}({cc})\" for name, cc in funcs])\n",
    "\n",
    "\n",
    "def analyze_binary(binary_path):\n",
    "    try:\n",
    "        with pyghidra.open_program(binary_path) as flat_api:\n",
    "            # Get program and listing\n",
    "            current_program = flat_api.getCurrentProgram()\n",
    "            listing = current_program.getListing()\n",
    "\n",
    "            # Get basic program info\n",
    "            files = current_program.getName()\n",
    "            arches = current_program.getLanguage().toString()\n",
    "            sha256 = current_program.getExecutableSHA256()\n",
    "            md5 = current_program.getExecutableMD5()\n",
    "            total_insn = listing.getNumInstructions()\n",
    "\n",
    "            # Get functions and calculate metrics\n",
    "            all_funcs = list(listing.getFunctions(True))\n",
    "            total_cc = 0\n",
    "            system_xrefs_details = []\n",
    "            monitor = flat_api.getMonitor()\n",
    "\n",
    "            # Analyze dangerous functions and their xrefs\n",
    "            ref_manager = current_program.getReferenceManager()\n",
    "            for func in all_funcs:\n",
    "                if func.getName() in dangerous_functions:\n",
    "                    entry_point = func.getEntryPoint()\n",
    "                    references = ref_manager.getReferencesTo(entry_point)\n",
    "                    for xref in references:\n",
    "                        ref_func = listing.getFunctionContaining(xref.getFromAddress())\n",
    "                        if ref_func:\n",
    "                            detail = f\"{xref.getFromAddress()} ({ref_func.getName()})\"\n",
    "                            system_xrefs_details.append(detail)\n",
    "\n",
    "            num_calls_in_system_xrefs = len(system_xrefs_details)\n",
    "\n",
    "            # Calculate cyclomatic complexity metrics\n",
    "            cc_calculator = CyclomaticComplexity()\n",
    "            complexity_funcs = []\n",
    "            for func in all_funcs:\n",
    "                try:\n",
    "                    cc = cc_calculator.calculateCyclomaticComplexity(func, monitor)\n",
    "                    total_cc += cc\n",
    "                    # Store all functions with their complexity\n",
    "                    complexity_funcs.append((func.getName(), cc))\n",
    "                except CancelledException:\n",
    "                    print(\n",
    "                        f\"Warning: Complexity calculation cancelled for function {func.getName()}\"\n",
    "                    )\n",
    "\n",
    "            num_funcs = len(all_funcs)\n",
    "            average_cc = total_cc / num_funcs if num_funcs > 0 else 0\n",
    "\n",
    "            # Sort functions by complexity and get top 10\n",
    "            top_complex_funcs = sorted(\n",
    "                complexity_funcs, key=itemgetter(1), reverse=True\n",
    "            )[:10]\n",
    "\n",
    "            # Save results to CSV\n",
    "            csv_file_path = \"./ghidratest.csv\"\n",
    "            with open(csv_file_path, mode=\"a\", newline=\"\") as csv_file:\n",
    "                fieldnames = [\n",
    "                    \"File\",\n",
    "                    \"Architecture\",\n",
    "                    \"SHA256\",\n",
    "                    \"MD5\",\n",
    "                    \"Total_Instructions\",\n",
    "                    \"Total_Functions\",\n",
    "                    \"System_Xrefs\",\n",
    "                    \"Total_System_Xrefs\",\n",
    "                    \"Average_Cyclomatic_Complexity\",\n",
    "                    \"Top_10_Complex_Functions\",  # New field\n",
    "                ]\n",
    "                writer = csv.DictWriter(csv_file, fieldnames=fieldnames)\n",
    "\n",
    "                if csv_file.tell() == 0:\n",
    "                    writer.writeheader()\n",
    "\n",
    "                writer.writerow(\n",
    "                    {\n",
    "                        \"File\": files,\n",
    "                        \"Architecture\": arches,\n",
    "                        \"SHA256\": sha256,\n",
    "                        \"MD5\": md5,\n",
    "                        \"Total_Instructions\": total_insn,\n",
    "                        \"Total_Functions\": num_funcs,\n",
    "                        \"System_Xrefs\": \"; \".join(system_xrefs_details),\n",
    "                        \"Total_System_Xrefs\": num_calls_in_system_xrefs,\n",
    "                        \"Average_Cyclomatic_Complexity\": round(average_cc, 2),\n",
    "                        \"Top_10_Complex_Functions\": format_high_complexity_funcs(\n",
    "                            top_complex_funcs\n",
    "                        ),\n",
    "                    }\n",
    "                )\n",
    "\n",
    "    except Exception as e:\n",
    "        print(f\"Error loading binary {binary_path}: {str(e)}. Skipping file.\")\n",
    "    except Exception as e:\n",
    "        print(f\"Error analyzing binary: {str(e)}\")\n",
    "        raise\n",
    "\n",
    "\n",
    "def scan_directory(directory_path):\n",
    "    # Scan the directory for binaries and analyze each one\n",
    "    for root, _, files in os.walk(directory_path):\n",
    "        for file in files:\n",
    "            binary_path = os.path.join(root, file)\n",
    "            if os.path.isfile(binary_path):  # Make sure it's a file\n",
    "                print(f\"Analyzing binary: {binary_path}\")\n",
    "                analyze_binary(binary_path)\n",
    "\n",
    "\n",
    "if __name__ == \"__main__\":\n",
    "    # Change this path to the directory you want to scan\n",
    "    directory_path = \"./AC15/\"\n",
    "    scan_directory(directory_path)"
   ]
  },
  {
   "cell_type": "code",
   "execution_count": null,
   "id": "109c1783-a96e-4d6f-8054-d53ca550e171",
   "metadata": {},
   "outputs": [],
   "source": [
    "%%time\n",
    "df = pd.read_csv(\"./ghidratest.csv\", header=None)"
   ]
  },
  {
   "cell_type": "markdown",
   "id": "8ca3a863-d264-4cd5-ab83-cda7cf8d233e",
   "metadata": {},
   "source": [
    "<h2>Naming Pandas Columns</h2>"
   ]
  },
  {
   "cell_type": "code",
   "execution_count": null,
   "id": "8355ad2e-4c82-4e35-9193-a9e02ab7a1c1",
   "metadata": {},
   "outputs": [],
   "source": [
    "df"
   ]
  },
  {
   "cell_type": "code",
   "execution_count": null,
   "id": "1e6cf455-d87e-4bcf-becd-78b67cea7887",
   "metadata": {
    "scrolled": true
   },
   "outputs": [],
   "source": [
    "%%time\n",
    "df.columns = [\n",
    "    \"File\",\n",
    "    \"Architecture\",\n",
    "    \"SHA256\",\n",
    "    \"MD5\",\n",
    "    \"Strings\",\n",
    "    \"Functions\",\n",
    "    \"System_Xrefs\",\n",
    "    \"Total_System_Xrefs\",\n",
    "    \"Average_Cyclomatic_Complexity\",\n",
    "    \"Top_10_Complex_Functions\",\n",
    "]"
   ]
  },
  {
   "cell_type": "code",
   "execution_count": null,
   "id": "cb9b6f38-2571-44ac-b530-edfc22e1d9ad",
   "metadata": {},
   "outputs": [],
   "source": [
    "df = pd.read_csv(\n",
    "    \"ghidratest.csv\",\n",
    "    dtype={\n",
    "        \"Total_Instructions\": int,\n",
    "        \"Total_Functions\": int,\n",
    "        \"Total_System_Xrefs\": int,\n",
    "        \"Average_Cyclomatic_Complexity\": float,\n",
    "    },\n",
    ")"
   ]
  },
  {
   "cell_type": "code",
   "execution_count": null,
   "id": "0af40cc9-41b8-43ef-b24b-318b90e5e0c7",
   "metadata": {},
   "outputs": [],
   "source": [
    "df.fillna(\"None\", inplace=True)"
   ]
  },
  {
   "cell_type": "markdown",
   "id": "c28b915d-8b0a-41fa-94e3-c3db16c909cb",
   "metadata": {},
   "source": [
    "<h2>Verify the Pandas Output</h2>"
   ]
  },
  {
   "cell_type": "code",
   "execution_count": null,
   "id": "e3f8923a-0089-46f2-8232-82254aaeba35",
   "metadata": {},
   "outputs": [],
   "source": [
    "%%time\n",
    "df"
   ]
  },
  {
   "cell_type": "markdown",
   "id": "853eae82-b3f4-4917-9adc-64475aec8d49",
   "metadata": {},
   "source": [
    "<h2>Checking Pandas Datatypes</h2>"
   ]
  },
  {
   "cell_type": "code",
   "execution_count": null,
   "id": "4d516a37-d826-4210-a967-b87ebebd6e08",
   "metadata": {},
   "outputs": [],
   "source": [
    "%%time\n",
    "df.dtypes"
   ]
  },
  {
   "cell_type": "markdown",
   "id": "e6daf0fe-036a-4bb8-9d03-bafc25a2219e",
   "metadata": {},
   "source": [
    "<h2>Changing Datatypes to String</h2>"
   ]
  },
  {
   "cell_type": "code",
   "execution_count": null,
   "id": "5d330140-b0d3-422a-bb72-5d92b58c326f",
   "metadata": {},
   "outputs": [],
   "source": [
    "%%time\n",
    "df[\"Total_Instructions\"] = df[\"Total_Instructions\"].astype(str)\n",
    "df[\"Total_Functions\"] = df[\"Total_Functions\"].astype(str)\n",
    "df[\"Architecture\"] = df[\"Architecture\"].astype(str)\n",
    "df[\"File\"] = df[\"File\"].astype(str)\n",
    "df[\"SHA256\"] = df[\"SHA256\"].astype(str)\n",
    "df[\"MD5\"] = df[\"MD5\"].astype(str)\n",
    "df[\"Architecture\"] = df[\"Architecture\"].astype(str)\n",
    "df[\"System_Xrefs\"] = df[\"System_Xrefs\"].astype(str)"
   ]
  },
  {
   "cell_type": "markdown",
   "id": "ba7753c1-e875-4c92-8426-36a54881be19",
   "metadata": {},
   "source": [
    "<h2>Searching for Features</h2>"
   ]
  },
  {
   "cell_type": "code",
   "execution_count": null,
   "id": "db7eeec7-b080-409c-bb1f-68e030e99e54",
   "metadata": {},
   "outputs": [],
   "source": [
    "df[df[\"Architecture\"].str.contains(\"little\", na=False)]"
   ]
  },
  {
   "cell_type": "markdown",
   "id": "daf83e87-40b3-4276-9ce8-c18d4bfa5a81",
   "metadata": {},
   "source": [
    "<h2>Using Query to Search for Features</h2>"
   ]
  },
  {
   "cell_type": "code",
   "execution_count": null,
   "id": "89155077-87ac-4da0-bb85-a8fba456ff8b",
   "metadata": {},
   "outputs": [],
   "source": [
    "df.query(\"Average_Cyclomatic_Complexity > 3\")"
   ]
  },
  {
   "cell_type": "code",
   "execution_count": null,
   "id": "999aca72-5e5e-42c5-9f10-602a4413efa5",
   "metadata": {},
   "outputs": [],
   "source": [
    "df_sorted = df.sort_values(by=\"Total_System_Xrefs\", ascending=False)"
   ]
  },
  {
   "cell_type": "code",
   "execution_count": null,
   "id": "dcf41019-b194-4069-b4e3-b753df7f524b",
   "metadata": {},
   "outputs": [],
   "source": [
    "%%time\n",
    "df_sorted.plot_bokeh.bar(\n",
    "    x=\"File\",\n",
    "    y=\"Total_System_Xrefs\",\n",
    "    figsize=(900, 700),\n",
    "    title=\"Potentially Dangerous Calls To System\",\n",
    "    xlabel=\"Binary\",\n",
    "    ylabel=\"Total\",\n",
    "    color=\"#2196f3\",\n",
    "    vertical_xlabel=True,\n",
    ")"
   ]
  },
  {
   "cell_type": "markdown",
   "id": "dd0447cc-da3a-4397-85e6-3a3a28fdc61f",
   "metadata": {},
   "source": [
    "<h2>Creating Charts Using Pandas Bokeh</h2>"
   ]
  },
  {
   "cell_type": "code",
   "execution_count": null,
   "id": "dbcacc41-6c43-4d81-acdb-5b69b236e800",
   "metadata": {},
   "outputs": [],
   "source": [
    "df.plot_bokeh.bar(\n",
    "    x=\"File\",\n",
    "    y=[\"Average_Cyclomatic_Complexity\"],\n",
    "    figsize=(900, 700),\n",
    "    title=\"Average Cyclomatic Complexity\",\n",
    "    xlabel=\"File\",\n",
    "    ylabel=\"Average Cyclomatic Complexity\",\n",
    "    color=\"#2196f3\",\n",
    "    vertical_xlabel=True,\n",
    ")"
   ]
  },
  {
   "cell_type": "code",
   "execution_count": null,
   "id": "5e7ac1f4-98da-4dd9-af40-8e5ce1fef507",
   "metadata": {},
   "outputs": [],
   "source": [
    "# Process the Top_10_Complex_Functions column\n",
    "def extract_func_data(func_str):\n",
    "    # Split the string into individual function entries\n",
    "    funcs = func_str.split(\"; \")\n",
    "\n",
    "    # Extract function names and complexity scores\n",
    "    names = []\n",
    "    scores = []\n",
    "    for func in funcs:\n",
    "        if func:  # Check if the function entry is not empty\n",
    "            name, score = func.strip(\"()\").split(\"(\")\n",
    "            names.append(name)\n",
    "            scores.append(float(score))\n",
    "\n",
    "    return pd.DataFrame({\"Function_Name\": names, \"Complexity\": scores})\n",
    "\n",
    "\n",
    "# Create a visualization for each binary\n",
    "for idx, row in df.iterrows():\n",
    "    binary_name = row[\"File\"]\n",
    "    func_data = extract_func_data(row[\"Top_10_Complex_Functions\"])\n",
    "\n",
    "    # Create bar plot\n",
    "    plot = func_data.plot_bokeh(\n",
    "        kind=\"bar\",\n",
    "        x=\"Function_Name\",\n",
    "        y=\"Complexity\",\n",
    "        title=f\"Top 10 High Complexity Functions in {binary_name}\",\n",
    "        xlabel=\"Function Name\",\n",
    "        ylabel=\"Cyclomatic Complexity\",\n",
    "        figsize=(1000, 600),\n",
    "        color=\"#2196f3\",\n",
    "        vertical_xlabel=True,\n",
    "        show_figure=True,\n",
    "    )"
   ]
  },
  {
   "cell_type": "markdown",
   "id": "980ae46b-944d-4f19-b384-d7ddd1342cb7",
   "metadata": {},
   "source": [
    "<h2>Reference Material</h2>"
   ]
  },
  {
   "cell_type": "markdown",
   "id": "bd9803d5-4af2-473c-94d0-467489f978fc",
   "metadata": {},
   "source": [
    "- 10 Minutes to Pandas: https://pandas.pydata.org/docs/user_guide/10min.html\n",
    "- Pandas Cookbook: https://pandas.pydata.org/docs/user_guide/cookbook.html#cookbook\n",
    "- Ghidra API: https://ghidra.re/ghidra_docs/api/index.html\n",
    "- PyGhidra: https://github.com/NationalSecurityAgency/ghidra/tree/master/Ghidra/Features/PyGhidra\n",
    "- EMUX: https://github.com/therealsaumil/emux\n",
    "- Ghidra Snippets: https://github.com/HackOvert/GhidraSnippets\n",
    "- Auditing system calls for command injection vulnerabilities using Ghidra's PCode: https://youtu.be/UVNeg7Vqytc\n",
    "- cetfor/SystemCallAuditorGhidra.py: https://github.com/HackOvert/PotentiallyVulnerable/blob/main/CWE-78/SystemCallAuditorGhidra.py"
   ]
  }
 ],
 "metadata": {
  "kernelspec": {
   "display_name": "Python 3 (ipykernel)",
   "language": "python",
   "name": "python3"
  },
  "language_info": {
   "codemirror_mode": {
    "name": "ipython",
    "version": 3
   },
   "file_extension": ".py",
   "mimetype": "text/x-python",
   "name": "python",
   "nbconvert_exporter": "python",
   "pygments_lexer": "ipython3",
   "version": "3.11.11"
  }
 },
 "nbformat": 4,
 "nbformat_minor": 5
}
