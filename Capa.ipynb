{
 "cells": [
  {
   "cell_type": "markdown",
   "id": "ec8db000-5616-4a29-b1dd-bf9b99621bd4",
   "metadata": {},
   "source": [
    "# Capa"
   ]
  },
  {
   "cell_type": "markdown",
   "id": "36d8e491-2e1d-4f10-8c8b-b6ccef886965",
   "metadata": {},
   "source": [
    "```\n",
    "pip3 install --upgrade pip\n",
    "git clone https://github.com/mandiant/capa.git\n",
    "cd capa\n",
    "git submodule update --init --recursive\n",
    "pip3 install -e .\n",
    "```"
   ]
  },
  {
   "cell_type": "markdown",
   "id": "2e15cfc8-4f29-43e6-a063-57de4577222f",
   "metadata": {},
   "source": [
    "Update your path in .bashrc or .zshrc so can execute capa\n",
    "```\n",
    "PATH=$PATH:/home/user/.local/bin\n",
    "```"
   ]
  },
  {
   "cell_type": "markdown",
   "id": "052958d3-ef21-4cce-a2c4-f03a5f46a777",
   "metadata": {},
   "source": [
    "## Get plugx RAT sample"
   ]
  },
  {
   "cell_type": "code",
   "execution_count": 2,
   "id": "f609433f-46ad-4c79-81ca-d4ab1cebd78e",
   "metadata": {},
   "outputs": [
    {
     "name": "stdout",
     "output_type": "stream",
     "text": [
      "Cloning into 'obfuscation_detection'...\n",
      "remote: Enumerating objects: 353, done.\u001b[K\n",
      "remote: Counting objects: 100% (174/174), done.\u001b[K\n",
      "remote: Compressing objects: 100% (82/82), done.\u001b[K\n",
      "remote: Total 353 (delta 100), reused 129 (delta 92), pack-reused 179\u001b[K\n",
      "Receiving objects: 100% (353/353), 16.17 MiB | 1.93 MiB/s, done.\n",
      "Resolving deltas: 100% (213/213), done.\n"
     ]
    }
   ],
   "source": [
    "!git clone https://github.com/mrphrazer/obfuscation_detection.git"
   ]
  },
  {
   "cell_type": "code",
   "execution_count": 3,
   "id": "9c37fbce-0a5c-4d18-abb2-5d09673e07c7",
   "metadata": {},
   "outputs": [
    {
     "name": "stdout",
     "output_type": "stream",
     "text": [
      "Archive:  ./obfuscation_detection/examples/samples.zip\n",
      "   creating: samples/\n",
      "  inflating: samples/ls              \n",
      "  inflating: samples/gcc             \n",
      "  inflating: samples/plugx           \n",
      "  inflating: samples/adylkuzz        \n",
      "  inflating: samples/emotet          \n",
      "  inflating: samples/gdb             \n",
      "  inflating: samples/finspy          \n"
     ]
    }
   ],
   "source": [
    "!unzip -P infected ./obfuscation_detection/examples/samples.zip"
   ]
  },
  {
   "cell_type": "code",
   "execution_count": 4,
   "id": "5fa01a30-afb2-47bf-9404-3a4cef85d807",
   "metadata": {
    "scrolled": true
   },
   "outputs": [
    {
     "name": "stdout",
     "output_type": "stream",
     "text": [
      "usage: capa [-h] [--version] [-v] [-vv] [-d] [-q]\n",
      "            [--color {auto,always,never}]\n",
      "            [-f {auto,pe,dotnet,elf,sc32,sc64,cape,freeze}]\n",
      "            [-b {auto,vivisect,pefile,binja,dotnet,freeze,cape}]\n",
      "            [--os {auto,linux,macos,windows}] [-r RULES] [-s SIGNATURES]\n",
      "            [-t TAG] [-j]\n",
      "            input_file\n",
      "\n",
      "The FLARE team's open-source tool to identify capabilities in executable files.\n",
      "\n",
      "positional arguments:\n",
      "  input_file            path to file to analyze\n",
      "\n",
      "options:\n",
      "  -h, --help            show this help message and exit\n",
      "  --version             show program's version number and exit\n",
      "  -v, --verbose         enable verbose result document (no effect with --json)\n",
      "  -vv, --vverbose       enable very verbose result document (no effect with\n",
      "                        --json)\n",
      "  -d, --debug           enable debugging output on STDERR\n",
      "  -q, --quiet           disable all output but errors\n",
      "  --color {auto,always,never}\n",
      "                        enable ANSI color codes in results, default: only\n",
      "                        during interactive session\n",
      "  -f {auto,pe,dotnet,elf,sc32,sc64,cape,freeze}, --format {auto,pe,dotnet,elf,sc32,sc64,cape,freeze}\n",
      "                        select input format, auto: (default) detect file type\n",
      "                        automatically, pe: Windows PE file, dotnet: .NET PE\n",
      "                        file, elf: Executable and Linkable Format, sc32:\n",
      "                        32-bit shellcode, sc64: 64-bit shellcode, cape: CAPE\n",
      "                        sandbox report, freeze: features previously frozen by\n",
      "                        capa\n",
      "  -b {auto,vivisect,pefile,binja,dotnet,freeze,cape}, --backend {auto,vivisect,pefile,binja,dotnet,freeze,cape}\n",
      "                        select backend, auto: (default) detect appropriate\n",
      "                        backend automatically, vivisect: vivisect, pefile:\n",
      "                        pefile (file features only), binja: Binary Ninja,\n",
      "                        dotnet: .NET, freeze: capa freeze, cape: CAPE\n",
      "  --os {auto,linux,macos,windows}\n",
      "                        select sample OS: auto (detect OS automatically -\n",
      "                        default), linux, macos, windows\n",
      "  -r RULES, --rules RULES\n",
      "                        path to rule file or directory, use embedded rules by\n",
      "                        default\n",
      "  -s SIGNATURES, --signatures SIGNATURES\n",
      "                        path to .sig/.pat file or directory used to identify\n",
      "                        library functions, use embedded signatures by default\n",
      "  -t TAG, --tag TAG     filter on rule meta field values\n",
      "  -j, --json            emit JSON instead of text\n",
      "\n",
      "By default, capa uses a default set of embedded rules.\n",
      "You can see the rule set here:\n",
      "  https://github.com/mandiant/capa-rules\n",
      "\n",
      "To provide your own rule set, use the `-r` flag:\n",
      "  capa  --rules /path/to/rules  suspicious.exe\n",
      "  capa  -r      /path/to/rules  suspicious.exe\n",
      "\n",
      "examples:\n",
      "  identify capabilities in a binary\n",
      "    capa suspicious.exe\n",
      "\n",
      "  identify capabilities in 32-bit shellcode, see `-f` for all supported formats\n",
      "    capa -f sc32 shellcode.bin\n",
      "\n",
      "  report match locations\n",
      "    capa -v suspicious.exe\n",
      "\n",
      "  report all feature match details\n",
      "    capa -vv suspicious.exe\n",
      "\n",
      "  filter rules by meta fields, e.g. rule name or namespace\n",
      "    capa -t \"create TCP socket\" suspicious.exe\n",
      "\u001b[0m\u001b[0m"
     ]
    }
   ],
   "source": [
    "!capa --h"
   ]
  },
  {
   "cell_type": "code",
   "execution_count": 6,
   "id": "e5fd5fd2-8822-408c-a789-5e131b560196",
   "metadata": {},
   "outputs": [
    {
     "name": "stdout",
     "output_type": "stream",
     "text": [
      "┍━━━━━━━━━━━━━━━━━━━━━━━━┯━━━━━━━━━━━━━━━━━━━━━━━━━━━━━━━━━━━━━━━━━━━━━━━━━━━━━━━━━━━━━━━━━━━━━━━━━━━━━━━━━━━━┑[0m\u001b[0m\u001b[0m\u001b[0m\u001b[0m\u001b[0m\u001b[0m\u001b[0m\u001b[0m\u001b[0m\n",
      "│ md5                    │ 5c36e8d5beee7fbc0377db59071b9980                                                   │\n",
      "│ sha1                   │ 09de51b22662cf9e2449c784e05ba934a123f3c0                                           │\n",
      "│ sha256                 │ 74e1e83ac69e45a3bee78ac2fac00f9e897f281ea75ed179737e9b6fe39971e3                   │\n",
      "│ analysis               │ static                                                                             │\n",
      "│ os                     │ windows                                                                            │\n",
      "│ format                 │ pe                                                                                 │\n",
      "│ arch                   │ i386                                                                               │\n",
      "│ path                   │ /local/samples/plugx                                                               │\n",
      "┕━━━━━━━━━━━━━━━━━━━━━━━━┷━━━━━━━━━━━━━━━━━━━━━━━━━━━━━━━━━━━━━━━━━━━━━━━━━━━━━━━━━━━━━━━━━━━━━━━━━━━━━━━━━━━━┙\n",
      "\n",
      "┍━━━━━━━━━━━━━━━━━━━━━━━━┯━━━━━━━━━━━━━━━━━━━━━━━━━━━━━━━━━━━━━━━━━━━━━━━━━━━━━━━━━━━━━━━━━━━━━━━━━━━━━━━━━━━━┑\n",
      "│ ATT&CK Tactic          │ ATT&CK Technique                                                                   │\n",
      "┝━━━━━━━━━━━━━━━━━━━━━━━━┿━━━━━━━━━━━━━━━━━━━━━━━━━━━━━━━━━━━━━━━━━━━━━━━━━━━━━━━━━━━━━━━━━━━━━━━━━━━━━━━━━━━━┥\n",
      "│ \u001b[36mDEFENSE EVASION\u001b[0m        │ \u001b[36mFile and Directory Permissions Modification\u001b[0m T1222                                  │\n",
      "│                        │ \u001b[36mHide Artifacts\u001b[0m::Hidden Window T1564.003                                            │\n",
      "│                        │ \u001b[36mObfuscated Files or Information\u001b[0m T1027                                              │\n",
      "├────────────────────────┼────────────────────────────────────────────────────────────────────────────────────┤\n",
      "│ \u001b[36mDISCOVERY\u001b[0m              │ \u001b[36mApplication Window Discovery\u001b[0m T1010                                                 │\n",
      "│                        │ \u001b[36mFile and Directory Discovery\u001b[0m T1083                                                 │\n",
      "│                        │ \u001b[36mQuery Registry\u001b[0m T1012                                                               │\n",
      "│                        │ \u001b[36mSystem Information Discovery\u001b[0m T1082                                                 │\n",
      "│                        │ \u001b[36mSystem Location Discovery\u001b[0m T1614                                                    │\n",
      "├────────────────────────┼────────────────────────────────────────────────────────────────────────────────────┤\n",
      "│ \u001b[36mEXECUTION\u001b[0m              │ \u001b[36mCommand and Scripting Interpreter\u001b[0m T1059                                            │\n",
      "│                        │ \u001b[36mShared Modules\u001b[0m T1129                                                               │\n",
      "├────────────────────────┼────────────────────────────────────────────────────────────────────────────────────┤\n",
      "│ \u001b[36mPERSISTENCE\u001b[0m            │ \u001b[36mBoot or Logon Autostart Execution\u001b[0m::Shortcut Modification T1547.009                 │\n",
      "├────────────────────────┼────────────────────────────────────────────────────────────────────────────────────┤\n",
      "│ \u001b[36mPRIVILEGE ESCALATION\u001b[0m   │ \u001b[36mAccess Token Manipulation\u001b[0m T1134                                                    │\n",
      "┕━━━━━━━━━━━━━━━━━━━━━━━━┷━━━━━━━━━━━━━━━━━━━━━━━━━━━━━━━━━━━━━━━━━━━━━━━━━━━━━━━━━━━━━━━━━━━━━━━━━━━━━━━━━━━━┙\n",
      "\n",
      "┍━━━━━━━━━━━━━━━━━━━━━━━━━━━━━┯━━━━━━━━━━━━━━━━━━━━━━━━━━━━━━━━━━━━━━━━━━━━━━━━━━━━━━━━━━━━━━━━━━━━━━━━━━━━━━━┑\n",
      "│ MBC Objective               │ MBC Behavior                                                                  │\n",
      "┝━━━━━━━━━━━━━━━━━━━━━━━━━━━━━┿━━━━━━━━━━━━━━━━━━━━━━━━━━━━━━━━━━━━━━━━━━━━━━━━━━━━━━━━━━━━━━━━━━━━━━━━━━━━━━━┥\n",
      "│ \u001b[36mANTI-BEHAVIORAL ANALYSIS\u001b[0m    │ \u001b[36mDebugger Detection\u001b[0m::Timing/Delay Check GetTickCount [B0001.032]               │\n",
      "├─────────────────────────────┼───────────────────────────────────────────────────────────────────────────────┤\n",
      "│ \u001b[36mCRYPTOGRAPHY\u001b[0m                │ \u001b[36mCryptographic Hash\u001b[0m::SHA1 [C0029.002]                                          │\n",
      "├─────────────────────────────┼───────────────────────────────────────────────────────────────────────────────┤\n",
      "│ \u001b[36mDATA\u001b[0m                        │ \u001b[36mChecksum\u001b[0m::CRC32 [C0032.001]                                                   │\n",
      "│                             │ \u001b[36mEncode Data\u001b[0m::XOR [C0026.002]                                                  │\n",
      "├─────────────────────────────┼───────────────────────────────────────────────────────────────────────────────┤\n",
      "│ \u001b[36mDEFENSE EVASION\u001b[0m             │ \u001b[36mObfuscated Files or Information\u001b[0m::Encoding-Standard Algorithm [E1027.m02]      │\n",
      "├─────────────────────────────┼───────────────────────────────────────────────────────────────────────────────┤\n",
      "│ \u001b[36mDISCOVERY\u001b[0m                   │ \u001b[36mApplication Window Discovery\u001b[0m [E1010]                                          │\n",
      "│                             │ \u001b[36mFile and Directory Discovery\u001b[0m [E1083]                                          │\n",
      "│                             │ \u001b[36mSystem Information Discovery\u001b[0m [E1082]                                          │\n",
      "├─────────────────────────────┼───────────────────────────────────────────────────────────────────────────────┤\n",
      "│ \u001b[36mEXECUTION\u001b[0m                   │ \u001b[36mCommand and Scripting Interpreter\u001b[0m [E1059]                                     │\n",
      "├─────────────────────────────┼───────────────────────────────────────────────────────────────────────────────┤\n",
      "│ \u001b[36mFILE SYSTEM\u001b[0m                 │ \u001b[36mCreate Directory\u001b[0m [C0046]                                                      │\n",
      "│                             │ \u001b[36mDelete File\u001b[0m [C0047]                                                           │\n",
      "│                             │ \u001b[36mGet File Attributes\u001b[0m [C0049]                                                   │\n",
      "│                             │ \u001b[36mMove File\u001b[0m [C0063]                                                             │\n",
      "│                             │ \u001b[36mRead File\u001b[0m [C0051]                                                             │\n",
      "│                             │ \u001b[36mSet File Attributes\u001b[0m [C0050]                                                   │\n",
      "│                             │ \u001b[36mWrites File\u001b[0m [C0052]                                                           │\n",
      "├─────────────────────────────┼───────────────────────────────────────────────────────────────────────────────┤\n",
      "│ \u001b[36mOPERATING SYSTEM\u001b[0m            │ \u001b[36mEnvironment Variable\u001b[0m::Set Variable [C0034.001]                                │\n",
      "│                             │ \u001b[36mRegistry\u001b[0m::Query Registry Value [C0036.006]                                    │\n",
      "│                             │ \u001b[36mRegistry\u001b[0m::Set Registry Key [C0036.001]                                        │\n",
      "├─────────────────────────────┼───────────────────────────────────────────────────────────────────────────────┤\n",
      "│ \u001b[36mPROCESS\u001b[0m                     │ \u001b[36mCreate Process\u001b[0m [C0017]                                                        │\n",
      "│                             │ \u001b[36mTerminate Process\u001b[0m [C0018]                                                     │\n",
      "┕━━━━━━━━━━━━━━━━━━━━━━━━━━━━━┷━━━━━━━━━━━━━━━━━━━━━━━━━━━━━━━━━━━━━━━━━━━━━━━━━━━━━━━━━━━━━━━━━━━━━━━━━━━━━━━┙\n",
      "\n",
      "┍━━━━━━━━━━━━━━━━━━━━━━━━━━━━━━━━━━━━━━━━━━━━━━━━━━━━━━┯━━━━━━━━━━━━━━━━━━━━━━━━━━━━━━━━━━━━━━━━━━━━━━━━━━━━━━┑\n",
      "│ Capability                                           │ Namespace                                            │\n",
      "┝━━━━━━━━━━━━━━━━━━━━━━━━━━━━━━━━━━━━━━━━━━━━━━━━━━━━━━┿━━━━━━━━━━━━━━━━━━━━━━━━━━━━━━━━━━━━━━━━━━━━━━━━━━━━━━┥\n",
      "│ \u001b[36mcheck for time delay via GetTickCount\u001b[0m                │ anti-analysis/anti-debugging/debugger-detection      │\n",
      "│ \u001b[36mget geographical location\u001b[0m                            │ collection                                           │\n",
      "│ \u001b[36mhash data with CRC32\u001b[0m                                 │ data-manipulation/checksum/crc32                     │\n",
      "│ \u001b[36mencode data using XOR\u001b[0m (13 matches)                   │ data-manipulation/encoding/xor                       │\n",
      "│ \u001b[36mhash data using SHA1\u001b[0m                                 │ data-manipulation/hashing/sha1                       │\n",
      "│ \u001b[36mcontains PDB path\u001b[0m                                    │ executable/pe/pdb                                    │\n",
      "│ \u001b[36maccept command line arguments\u001b[0m (2 matches)            │ host-interaction/cli                                 │\n",
      "│ \u001b[36mquery environment variable\u001b[0m                           │ host-interaction/environment-variable                │\n",
      "│ \u001b[36mset environment variable\u001b[0m                             │ host-interaction/environment-variable                │\n",
      "│ \u001b[36mget common file path\u001b[0m (4 matches)                     │ host-interaction/file-system                         │\n",
      "│ \u001b[36mget file system object information\u001b[0m                   │ host-interaction/file-system                         │\n",
      "│ \u001b[36mset current directory\u001b[0m                                │ host-interaction/file-system                         │\n",
      "│ \u001b[36mcreate directory\u001b[0m                                     │ host-interaction/file-system/create                  │\n",
      "│ \u001b[36mdelete file\u001b[0m (4 matches)                              │ host-interaction/file-system/delete                  │\n",
      "│ \u001b[36mcheck if file exists\u001b[0m (5 matches)                     │ host-interaction/file-system/exists                  │\n",
      "│ \u001b[36menumerate files on Windows\u001b[0m                           │ host-interaction/file-system/files/list              │\n",
      "│ \u001b[36mget file attributes\u001b[0m (7 matches)                      │ host-interaction/file-system/meta                    │\n",
      "│ \u001b[36mset file attributes\u001b[0m (4 matches)                      │ host-interaction/file-system/meta                    │\n",
      "│ \u001b[36mmove file\u001b[0m (2 matches)                                │ host-interaction/file-system/move                    │\n",
      "│ \u001b[36mread file on Windows\u001b[0m                                 │ host-interaction/file-system/read                    │\n",
      "│ \u001b[36mread file via mapping\u001b[0m                                │ host-interaction/file-system/read                    │\n",
      "│ \u001b[36mwrite file on Windows\u001b[0m                                │ host-interaction/file-system/write                   │\n",
      "│ \u001b[36mfind graphical window\u001b[0m                                │ host-interaction/gui/window/find                     │\n",
      "│ \u001b[36mget graphical window text\u001b[0m                            │ host-interaction/gui/window/get-text                 │\n",
      "│ \u001b[36mhide graphical window\u001b[0m (3 matches)                    │ host-interaction/gui/window/hide                     │\n",
      "│ \u001b[36mcreate process on Windows\u001b[0m (3 matches)                │ host-interaction/process/create                      │\n",
      "│ \u001b[36mmodify access privileges\u001b[0m                             │ host-interaction/process/modify                      │\n",
      "│ \u001b[36mterminate process\u001b[0m (2 matches)                        │ host-interaction/process/terminate                   │\n",
      "│ \u001b[36mquery or enumerate registry value\u001b[0m (2 matches)        │ host-interaction/registry                            │\n",
      "│ \u001b[36mset registry value\u001b[0m                                   │ host-interaction/registry/create                     │\n",
      "│ \u001b[36mlink function at runtime on Windows\u001b[0m                  │ linking/runtime-linking                              │\n",
      "│ \u001b[36mcreate shortcut via IShellLink\u001b[0m                       │ persistence                                          │\n",
      "┕━━━━━━━━━━━━━━━━━━━━━━━━━━━━━━━━━━━━━━━━━━━━━━━━━━━━━━┷━━━━━━━━━━━━━━━━━━━━━━━━━━━━━━━━━━━━━━━━━━━━━━━━━━━━━━┙\n",
      "\u001b[0m\n",
      "\u001b[0m\u001b[K\u001b[0m\u001b[?25h\u001b[0m\u001b[0m\u001b[0m"
     ]
    }
   ],
   "source": [
    "!capa --os windows -b auto ./samples/plugx"
   ]
  },
  {
   "cell_type": "code",
   "execution_count": null,
   "id": "ba3152d6-9794-471f-9b87-9a22c2120579",
   "metadata": {},
   "outputs": [],
   "source": []
  }
 ],
 "metadata": {
  "kernelspec": {
   "display_name": "Python 3 (ipykernel)",
   "language": "python",
   "name": "python3"
  },
  "language_info": {
   "codemirror_mode": {
    "name": "ipython",
    "version": 3
   },
   "file_extension": ".py",
   "mimetype": "text/x-python",
   "name": "python",
   "nbconvert_exporter": "python",
   "pygments_lexer": "ipython3",
   "version": "3.10.12"
  }
 },
 "nbformat": 4,
 "nbformat_minor": 5
}
