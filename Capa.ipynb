{
 "cells": [
  {
   "cell_type": "markdown",
   "id": "ec8db000-5616-4a29-b1dd-bf9b99621bd4",
   "metadata": {},
   "source": [
    "# Capa"
   ]
  },
  {
   "cell_type": "markdown",
   "id": "052958d3-ef21-4cce-a2c4-f03a5f46a777",
   "metadata": {},
   "source": [
    "## Get plugx RAT sample"
   ]
  },
  {
   "cell_type": "code",
   "execution_count": null,
   "id": "f609433f-46ad-4c79-81ca-d4ab1cebd78e",
   "metadata": {},
   "outputs": [],
   "source": [
    "!git clone https://github.com/mrphrazer/obfuscation_detection.git"
   ]
  },
  {
   "cell_type": "code",
   "execution_count": null,
   "id": "9c37fbce-0a5c-4d18-abb2-5d09673e07c7",
   "metadata": {},
   "outputs": [],
   "source": [
    "!unzip -P infected ./obfuscation_detection/examples/samples.zip"
   ]
  },
  {
   "cell_type": "code",
   "execution_count": null,
   "id": "691691cb-04ac-4fca-a1e1-6ef0ff9189b3",
   "metadata": {},
   "outputs": [],
   "source": [
    "!wget https://github.com/mandiant/capa/raw/master/web/explorer/releases/capa-explorer-web-v1.0.0-6a2330c.zip"
   ]
  },
  {
   "cell_type": "code",
   "execution_count": null,
   "id": "cf9cdc1f-ef27-4efa-b30d-c48de83c0ade",
   "metadata": {},
   "outputs": [],
   "source": [
    "!unzip ./capa-explorer-web-v1.0.0-6a2330c.zip"
   ]
  },
  {
   "cell_type": "code",
   "execution_count": null,
   "id": "5fa01a30-afb2-47bf-9404-3a4cef85d807",
   "metadata": {
    "scrolled": true
   },
   "outputs": [],
   "source": [
    "!capa --h"
   ]
  },
  {
   "cell_type": "code",
   "execution_count": null,
   "id": "e5fd5fd2-8822-408c-a789-5e131b560196",
   "metadata": {
    "scrolled": true
   },
   "outputs": [],
   "source": [
    "!capa --os windows ./samples/plugx -j > ./capa-explorer-web/result.json"
   ]
  }
 ],
 "metadata": {
  "kernelspec": {
   "display_name": "Python 3 (ipykernel)",
   "language": "python",
   "name": "python3"
  },
  "language_info": {
   "codemirror_mode": {
    "name": "ipython",
    "version": 3
   },
   "file_extension": ".py",
   "mimetype": "text/x-python",
   "name": "python",
   "nbconvert_exporter": "python",
   "pygments_lexer": "ipython3",
   "version": "3.11.12"
  }
 },
 "nbformat": 4,
 "nbformat_minor": 5
}
